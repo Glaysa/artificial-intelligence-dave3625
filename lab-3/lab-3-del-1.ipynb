{
 "cells": [
  {
   "cell_type": "markdown",
   "id": "ea99f219",
   "metadata": {},
   "source": [
    "# Task 1: Faker\n",
    " Create a dataframe with 100 fake persons.\n"
   ]
  },
  {
   "cell_type": "code",
   "execution_count": 1,
   "id": "8140bc93",
   "metadata": {},
   "outputs": [],
   "source": [
    "from faker import Faker\n",
    "import pandas as pd\n",
    "from laundromat import spacy\n",
    "from laundromat.spacy.spacy_model import SpacyModel\n",
    "from faker.providers.credit_card import Provider as CreditCardProvider #Add creditcards to faker"
   ]
  },
  {
   "cell_type": "markdown",
   "id": "c48453af",
   "metadata": {},
   "source": [
    "#### Create an empty df"
   ]
  },
  {
   "cell_type": "code",
   "execution_count": 2,
   "id": "67abb462",
   "metadata": {},
   "outputs": [],
   "source": [
    "df = pd.DataFrame(columns=['Navn','Adresse', 'PersonNr', 'CreditCard', 'ipv4'])"
   ]
  },
  {
   "cell_type": "code",
   "execution_count": 3,
   "id": "02b58aab",
   "metadata": {},
   "outputs": [
    {
     "data": {
      "text/html": [
       "<div>\n",
       "<style scoped>\n",
       "    .dataframe tbody tr th:only-of-type {\n",
       "        vertical-align: middle;\n",
       "    }\n",
       "\n",
       "    .dataframe tbody tr th {\n",
       "        vertical-align: top;\n",
       "    }\n",
       "\n",
       "    .dataframe thead th {\n",
       "        text-align: right;\n",
       "    }\n",
       "</style>\n",
       "<table border=\"1\" class=\"dataframe\">\n",
       "  <thead>\n",
       "    <tr style=\"text-align: right;\">\n",
       "      <th></th>\n",
       "      <th>Navn</th>\n",
       "      <th>Adresse</th>\n",
       "      <th>PersonNr</th>\n",
       "      <th>CreditCard</th>\n",
       "      <th>ipv4</th>\n",
       "    </tr>\n",
       "  </thead>\n",
       "  <tbody>\n",
       "  </tbody>\n",
       "</table>\n",
       "</div>"
      ],
      "text/plain": [
       "Empty DataFrame\n",
       "Columns: [Navn, Adresse, PersonNr, CreditCard, ipv4]\n",
       "Index: []"
      ]
     },
     "execution_count": 3,
     "metadata": {},
     "output_type": "execute_result"
    }
   ],
   "source": [
    "df"
   ]
  },
  {
   "cell_type": "markdown",
   "id": "1e992bfd",
   "metadata": {},
   "source": [
    "#### Instantiating a faker"
   ]
  },
  {
   "cell_type": "code",
   "execution_count": 4,
   "id": "71e7dcfe",
   "metadata": {},
   "outputs": [],
   "source": [
    "fake = Faker(['no_NO'])"
   ]
  },
  {
   "cell_type": "code",
   "execution_count": 5,
   "id": "be3b0ac6",
   "metadata": {},
   "outputs": [
    {
     "data": {
      "text/plain": [
       "'Gro-Torill Sivertsen'"
      ]
     },
     "execution_count": 5,
     "metadata": {},
     "output_type": "execute_result"
    }
   ],
   "source": [
    "fake.name()"
   ]
  },
  {
   "cell_type": "markdown",
   "id": "f12e6093",
   "metadata": {},
   "source": [
    "#### Generating fake row values"
   ]
  },
  {
   "cell_type": "code",
   "execution_count": 6,
   "id": "4aeeba44",
   "metadata": {},
   "outputs": [],
   "source": [
    "navn = []\n",
    "adresse = []\n",
    "personnr = []\n",
    "creditCard = []\n",
    "ipv4 = []\n",
    "\n",
    "for _ in range(100):\n",
    "    navn.append(fake.name())\n",
    "\n",
    "for _ in range(100):\n",
    "    adresse.append(fake.address())\n",
    "    \n",
    "for _ in range(100):\n",
    "    personnr.append(fake.ssn())\n",
    "    \n",
    "for _ in range(100):\n",
    "    creditCard.append(fake.credit_card_number())\n",
    "    \n",
    "for _ in range(100):\n",
    "    ipv4.append(fake.ipv4())"
   ]
  },
  {
   "cell_type": "markdown",
   "id": "dbdb9499",
   "metadata": {},
   "source": [
    "#### Assigning row values"
   ]
  },
  {
   "cell_type": "code",
   "execution_count": 7,
   "id": "37a35ea1",
   "metadata": {},
   "outputs": [],
   "source": [
    "for i in range(100):\n",
    "    row=navn[i], adresse[i],personnr[i],creditCard[i],ipv4[i]\n",
    "    df.loc[i]=row"
   ]
  },
  {
   "cell_type": "code",
   "execution_count": 8,
   "id": "25e3c672",
   "metadata": {
    "scrolled": true
   },
   "outputs": [
    {
     "data": {
      "text/html": [
       "<div>\n",
       "<style scoped>\n",
       "    .dataframe tbody tr th:only-of-type {\n",
       "        vertical-align: middle;\n",
       "    }\n",
       "\n",
       "    .dataframe tbody tr th {\n",
       "        vertical-align: top;\n",
       "    }\n",
       "\n",
       "    .dataframe thead th {\n",
       "        text-align: right;\n",
       "    }\n",
       "</style>\n",
       "<table border=\"1\" class=\"dataframe\">\n",
       "  <thead>\n",
       "    <tr style=\"text-align: right;\">\n",
       "      <th></th>\n",
       "      <th>Navn</th>\n",
       "      <th>Adresse</th>\n",
       "      <th>PersonNr</th>\n",
       "      <th>CreditCard</th>\n",
       "      <th>ipv4</th>\n",
       "    </tr>\n",
       "  </thead>\n",
       "  <tbody>\n",
       "    <tr>\n",
       "      <th>0</th>\n",
       "      <td>Mari Svendsen</td>\n",
       "      <td>Rønningeggen 8, 8372 Steinvik</td>\n",
       "      <td>31106024440</td>\n",
       "      <td>2247213356049179</td>\n",
       "      <td>132.209.178.48</td>\n",
       "    </tr>\n",
       "    <tr>\n",
       "      <th>1</th>\n",
       "      <td>Elise Sørensen</td>\n",
       "      <td>Nguyenmarka 08A, 2404 Birkeland</td>\n",
       "      <td>12065830157</td>\n",
       "      <td>30130127228889</td>\n",
       "      <td>28.204.28.202</td>\n",
       "    </tr>\n",
       "    <tr>\n",
       "      <th>2</th>\n",
       "      <td>Johan-Terje Gulbrandsen</td>\n",
       "      <td>Svendsenspranget 638, 2798 Eivindø</td>\n",
       "      <td>03105443926</td>\n",
       "      <td>6011607197873801</td>\n",
       "      <td>57.56.73.177</td>\n",
       "    </tr>\n",
       "    <tr>\n",
       "      <th>3</th>\n",
       "      <td>Jon Andresen-Paulsen</td>\n",
       "      <td>Nielsenvika 62, 4034 Johnfjell</td>\n",
       "      <td>30055108826</td>\n",
       "      <td>4621357487924</td>\n",
       "      <td>192.254.218.51</td>\n",
       "    </tr>\n",
       "    <tr>\n",
       "      <th>4</th>\n",
       "      <td>Daniel Johnsen</td>\n",
       "      <td>Knudsenplassen 2A, 3094 Aas</td>\n",
       "      <td>18023817108</td>\n",
       "      <td>4642651367686058</td>\n",
       "      <td>53.68.178.250</td>\n",
       "    </tr>\n",
       "  </tbody>\n",
       "</table>\n",
       "</div>"
      ],
      "text/plain": [
       "                      Navn                             Adresse     PersonNr  \\\n",
       "0            Mari Svendsen       Rønningeggen 8, 8372 Steinvik  31106024440   \n",
       "1           Elise Sørensen     Nguyenmarka 08A, 2404 Birkeland  12065830157   \n",
       "2  Johan-Terje Gulbrandsen  Svendsenspranget 638, 2798 Eivindø  03105443926   \n",
       "3     Jon Andresen-Paulsen      Nielsenvika 62, 4034 Johnfjell  30055108826   \n",
       "4           Daniel Johnsen         Knudsenplassen 2A, 3094 Aas  18023817108   \n",
       "\n",
       "         CreditCard            ipv4  \n",
       "0  2247213356049179  132.209.178.48  \n",
       "1    30130127228889   28.204.28.202  \n",
       "2  6011607197873801    57.56.73.177  \n",
       "3     4621357487924  192.254.218.51  \n",
       "4  4642651367686058   53.68.178.250  "
      ]
     },
     "execution_count": 8,
     "metadata": {},
     "output_type": "execute_result"
    }
   ],
   "source": [
    "df.head()"
   ]
  }
 ],
 "metadata": {
  "kernelspec": {
   "display_name": "Python 3",
   "language": "python",
   "name": "python3"
  },
  "language_info": {
   "codemirror_mode": {
    "name": "ipython",
    "version": 3
   },
   "file_extension": ".py",
   "mimetype": "text/x-python",
   "name": "python",
   "nbconvert_exporter": "python",
   "pygments_lexer": "ipython3",
   "version": "3.8.11"
  }
 },
 "nbformat": 4,
 "nbformat_minor": 5
}
